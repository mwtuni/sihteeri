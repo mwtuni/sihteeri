{
  "cells": [
    {
      "cell_type": "markdown",
      "metadata": {},
      "source": [
        "# Sihteeri - Gradio-käyttöliittymä\n",
        "Tämä notebook tarjoaa Gradio-pohjaisen käyttöliittymän, jossa voit asettaa backend-URL:n, syöttää promptin, hakea käytettävissä olevat agentit sekä näyttää ja päivittää system-promptin."
      ]
    },
    {
      "cell_type": "code",
      "execution_count": null,
      "metadata": {},
      "outputs": [],
      "source": [
        "!pip install gradio requests --quiet"
      ]
    },
    {
      "cell_type": "code",
      "execution_count": null,
      "metadata": {},
      "outputs": [],
      "source": [
        "import gradio as gr\n",
        "import requests\n",
        "\n",
        "def send_prompt(prompt, backend_url):\n",
        "    try:\n",
        "        response = requests.post(backend_url, data={\"Body\": prompt, \"From\": \"gradio_user\"})\n",
        "        return response.text if response.status_code == 200 else f\"Error: {response.status_code}\"\n",
        "    except requests.RequestException as e:\n",
        "        return f\"Request failed: {e}\"\n",
        "\n",
        "def fetch_system_prompt(backend_url):\n",
        "    try:\n",
        "        response = requests.post(backend_url, data={\"Body\": \"system_prompt\", \"From\": \"gradio_user\"})\n",
        "        return response.text if response.status_code == 200 else f\"Error: {response.status_code}\"\n",
        "    except requests.RequestException as e:\n",
        "        return f\"Request failed: {e}\"\n",
        "\n",
        "def fetch_agents(backend_url):\n",
        "    try:\n",
        "        response = requests.post(backend_url, data={\"Body\": \"list_agents\", \"From\": \"gradio_user\"})\n",
        "        return response.text if response.status_code == 200 else f\"Error: {response.status_code}\"\n",
        "    except requests.RequestException as e:\n",
        "        return f\"Request failed: {e}\"\n",
        "\n",
        "with gr.Blocks() as interface:\n",
        "    with gr.Row():\n",
        "        with gr.Column(scale=1):\n",
        "            backend_url = gr.Textbox(label=\"Backend URL\", value=\"http://localhost:5000/whatsapp\")\n",
        "            prompt = gr.Textbox(label=\"Syötä prompt\")\n",
        "            send_button = gr.Button(\"Lähetä prompt\")\n",
        "        \n",
        "        with gr.Column(scale=1):\n",
        "            agents_display = gr.Textbox(label=\"Käytettävissä olevat agentit\", interactive=False)\n",
        "            fetch_agents_button = gr.Button(\"Hae agentit\")\n",
        "            fetch_agents_button.click(fn=fetch_agents, inputs=backend_url, outputs=agents_display)\n",
        "        \n",
        "        with gr.Column(scale=1):\n",
        "            system_prompt_display = gr.Textbox(label=\"System Prompt\", interactive=True)\n",
        "            fetch_button = gr.Button(\"Hae System Prompt\")\n",
        "            fetch_button.click(fn=fetch_system_prompt, inputs=backend_url, outputs=system_prompt_display)\n",
        "\n",
        "    with gr.Row():\n",
        "        output = gr.Textbox(label=\"Vastaus\", interactive=False)\n",
        "        send_button.click(fn=send_prompt, inputs=[prompt, backend_url], outputs=output)\n",
        "\n",
        "interface.launch(inline=True)"
      ]
    }
  ],
  "metadata": {
    "colab": {
      "name": "sihteeri_gradio.ipynb"
    },
    "kernelspec": {
      "display_name": "Python 3",
      "name": "python3"
    },
    "language_info": {
      "codemirror_mode": {
        "name": "ipython",
        "version": 3
      },
      "file_extension": ".py",
      "mimetype": "text/x-python",
      "name": "python",
      "nbconvert_exporter": "python",
      "pygments_lexer": "ipython3",
      "version": "3.12.2"
    }
  },
  "nbformat": 4,
  "nbformat_minor": 0
}
